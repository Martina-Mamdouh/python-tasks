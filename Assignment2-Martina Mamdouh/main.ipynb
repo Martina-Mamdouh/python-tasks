{
 "cells": [
  {
   "cell_type": "code",
   "execution_count": 2,
   "metadata": {},
   "outputs": [],
   "source": [
    "import numpy as np"
   ]
  },
  {
   "cell_type": "markdown",
   "metadata": {},
   "source": [
    "# Question1: Create a null vector of size 10"
   ]
  },
  {
   "cell_type": "code",
   "execution_count": 3,
   "metadata": {},
   "outputs": [
    {
     "name": "stdout",
     "output_type": "stream",
     "text": [
      "[0. 0. 0. 0. 0. 0. 0. 0. 0. 0.]\n"
     ]
    }
   ],
   "source": [
    "null_vector=np.zeros(10)\n",
    "print(null_vector)"
   ]
  },
  {
   "cell_type": "markdown",
   "metadata": {},
   "source": [
    "# Question2: Create a vector with values ranging from 10 to 49"
   ]
  },
  {
   "cell_type": "code",
   "execution_count": 4,
   "metadata": {},
   "outputs": [
    {
     "data": {
      "text/plain": [
       "array([10, 11, 12, 13, 14, 15, 16, 17, 18, 19, 20, 21, 22, 23, 24, 25, 26,\n",
       "       27, 28, 29, 30, 31, 32, 33, 34, 35, 36, 37, 38, 39, 40, 41, 42, 43,\n",
       "       44, 45, 46, 47, 48, 49])"
      ]
     },
     "execution_count": 4,
     "metadata": {},
     "output_type": "execute_result"
    }
   ],
   "source": [
    "vector=np.arange(10,50)\n",
    "vector"
   ]
  },
  {
   "cell_type": "markdown",
   "metadata": {},
   "source": [
    "# Question3: Reverse a vector (first element becomes last)"
   ]
  },
  {
   "cell_type": "code",
   "execution_count": 5,
   "metadata": {},
   "outputs": [
    {
     "data": {
      "text/plain": [
       "array([49, 48, 47, 46, 45, 44, 43, 42, 41, 40, 39, 38, 37, 36, 35, 34, 33,\n",
       "       32, 31, 30, 29, 28, 27, 26, 25, 24, 23, 22, 21, 20, 19, 18, 17, 16,\n",
       "       15, 14, 13, 12, 11, 10])"
      ]
     },
     "execution_count": 5,
     "metadata": {},
     "output_type": "execute_result"
    }
   ],
   "source": [
    "vector=np.arange(10,50)\n",
    "reversed_vector=vector[::-1]\n",
    "reversed_vector"
   ]
  },
  {
   "cell_type": "markdown",
   "metadata": {},
   "source": [
    "# Question4: Create a 3x3 matrix with values ranging from 0 to 8"
   ]
  },
  {
   "cell_type": "code",
   "execution_count": 6,
   "metadata": {},
   "outputs": [
    {
     "data": {
      "text/plain": [
       "array([[0, 1, 2],\n",
       "       [3, 4, 5],\n",
       "       [6, 7, 8]])"
      ]
     },
     "execution_count": 6,
     "metadata": {},
     "output_type": "execute_result"
    }
   ],
   "source": [
    "matrix=np.arange(9).reshape(3,3)\n",
    "matrix"
   ]
  },
  {
   "cell_type": "markdown",
   "metadata": {},
   "source": [
    "# Question5: Find indices of non-zero elements from [1,2,0,0,4,0]"
   ]
  },
  {
   "cell_type": "code",
   "execution_count": 7,
   "metadata": {},
   "outputs": [
    {
     "data": {
      "text/plain": [
       "array([1, 2, 4])"
      ]
     },
     "execution_count": 7,
     "metadata": {},
     "output_type": "execute_result"
    }
   ],
   "source": [
    "arr = np.array([1, 2, 0, 0, 4, 0])\n",
    "non_zero_values=arr[arr!=0]\n",
    "non_zero_values\n"
   ]
  },
  {
   "cell_type": "markdown",
   "metadata": {},
   "source": [
    "# Question6: Create a 10x10 array with random values and find the minimum, maximum and mean values   "
   ]
  },
  {
   "cell_type": "code",
   "execution_count": 8,
   "metadata": {},
   "outputs": [
    {
     "name": "stdout",
     "output_type": "stream",
     "text": [
      "0.019611376473492648 0.9892405020247192 0.5383235740566006\n"
     ]
    }
   ],
   "source": [
    "arr=np.random.rand(10,10)\n",
    "min_value=np.min(arr)\n",
    "max_value=np.max(arr)\n",
    "mean_value=np.mean(arr)\n",
    "print(min_value,\n",
    "max_value,\n",
    "mean_value)"
   ]
  },
  {
   "cell_type": "markdown",
   "metadata": {},
   "source": [
    "# Question7: What is the result of the following expressions?\n",
    "\n",
    "\n",
    "  "
   ]
  },
  {
   "cell_type": "code",
   "execution_count": 9,
   "metadata": {},
   "outputs": [
    {
     "name": "stdout",
     "output_type": "stream",
     "text": [
      "nan\n",
      "False\n",
      "False\n",
      "nan\n",
      "True\n",
      "False\n"
     ]
    }
   ],
   "source": [
    "print(0 * np.nan)  \n",
    "print(np.nan == np.nan)   \n",
    "print(np.inf > np.nan)  \n",
    "print(np.nan - np.nan)   \n",
    "print(np.nan in set([np.nan]))   \n",
    "print(0.3 == 3*0.1) "
   ]
  },
  {
   "cell_type": "markdown",
   "metadata": {},
   "source": [
    "# Question8: Write a NumPy program to convert a list and tuple into arrays.\n",
    "\n",
    "List to array: [1 2 3 4 5 6 7 8]   \n",
    "Tuples to array: ((8, 4), (6,1), (2, 3))"
   ]
  },
  {
   "cell_type": "code",
   "execution_count": 10,
   "metadata": {},
   "outputs": [
    {
     "name": "stdout",
     "output_type": "stream",
     "text": [
      "List to array:\n",
      " [1 2 3 4 5 6 7 8]\n",
      "Tuples to array:\n",
      " [[8 4]\n",
      " [6 1]\n",
      " [2 3]]\n"
     ]
    }
   ],
   "source": [
    "list_data=[1,2,3,4,5,6,7,8]\n",
    "tuple_data=((8,4),(6,1),(2,3))\n",
    "list_array=np.array(list_data)\n",
    "tuple_array=np.array(tuple_data)\n",
    "print(\"List to array:\\n\", list_array)\n",
    "print(\"Tuples to array:\\n\", tuple_array)"
   ]
  },
  {
   "cell_type": "markdown",
   "metadata": {},
   "source": [
    "# Question9: Write a NumPy program to append values to the end of an array. \n",
    "original array: [10, 20, 30] After append values to the end of the array: [10 20 30 40 50 60 70 80 90] "
   ]
  },
  {
   "cell_type": "code",
   "execution_count": 11,
   "metadata": {},
   "outputs": [
    {
     "name": "stdout",
     "output_type": "stream",
     "text": [
      "Original array:\n",
      " [10 20 30]\n",
      "After append values to the end of the array:\n",
      " [10 20 30 40 50 60 70 80 90]\n"
     ]
    }
   ],
   "source": [
    "original_array = np.array([10, 20, 30])\n",
    "values_to_append = [40, 50, 60, 70, 80, 90]\n",
    "new_array = np.append(original_array, values_to_append)\n",
    "print(\"Original array:\\n\", original_array)\n",
    "print(\"After append values to the end of the array:\\n\", new_array)"
   ]
  },
  {
   "cell_type": "markdown",
   "metadata": {},
   "source": [
    "# Question10: How to add a border (filled with O's) around an existing array? "
   ]
  },
  {
   "cell_type": "code",
   "execution_count": 12,
   "metadata": {},
   "outputs": [
    {
     "name": "stdout",
     "output_type": "stream",
     "text": [
      "[[0. 0. 0. 0. 0.]\n",
      " [0. 1. 1. 1. 0.]\n",
      " [0. 1. 1. 1. 0.]\n",
      " [0. 1. 1. 1. 0.]\n",
      " [0. 0. 0. 0. 0.]]\n"
     ]
    }
   ],
   "source": [
    "array = np.ones((3, 3))\n",
    "bordered_array = np.pad(array, pad_width=1, mode='constant', constant_values=0)\n",
    "print(bordered_array)"
   ]
  },
  {
   "cell_type": "markdown",
   "metadata": {},
   "source": [
    "## Question11: Consider a (6,7,8) shape array, what is the index (x,y,z) of the 100th element?"
   ]
  },
  {
   "cell_type": "code",
   "execution_count": 13,
   "metadata": {},
   "outputs": [
    {
     "name": "stdout",
     "output_type": "stream",
     "text": [
      "(1, 5, 4)\n"
     ]
    }
   ],
   "source": [
    "shape = (6, 7, 8)\n",
    "index=np.unravel_index(100,shape)\n",
    "print(index)"
   ]
  },
  {
   "cell_type": "markdown",
   "metadata": {},
   "source": [
    "## Question12: Normalize a 5x5 random matrix"
   ]
  },
  {
   "cell_type": "code",
   "execution_count": 16,
   "metadata": {},
   "outputs": [
    {
     "name": "stdout",
     "output_type": "stream",
     "text": [
      "[[-1.04617132 -1.140633   -0.57722581 -0.13975676  1.41670802]\n",
      " [-0.70206576  0.28272737 -0.1252178  -0.42004883  1.82598922]\n",
      " [-0.44638905  0.93706715 -1.26488507 -0.35138268  1.80643016]\n",
      " [ 1.74086806 -0.14502409  0.80064755 -0.78862838 -0.61895029]\n",
      " [-0.94726742  0.20941395 -1.18391965 -0.71348983  1.59120427]]\n"
     ]
    }
   ],
   "source": [
    "matrix = np.random.rand(5, 5)\n",
    "mean_val = np.mean(matrix)\n",
    "std_dev = np.std(matrix)\n",
    "standardized_matrix = (matrix - mean_val) / std_dev\n",
    "print(standardized_matrix)"
   ]
  },
  {
   "cell_type": "markdown",
   "metadata": {},
   "source": [
    "## Question13: Given a 1D array, negate all elements which are between 3 and 8, in place"
   ]
  },
  {
   "cell_type": "code",
   "execution_count": 17,
   "metadata": {},
   "outputs": [
    {
     "data": {
      "text/plain": [
       "array([ 0,  1,  2, -3, -4, -5, -6, -7, -8,  9, 10])"
      ]
     },
     "execution_count": 17,
     "metadata": {},
     "output_type": "execute_result"
    }
   ],
   "source": [
    "arr = np.array([0, 1, 2, 3, 4, 5, 6, 7, 8, 9, 10])\n",
    "arr[(arr >= 3) & (arr <= 8)] *= -1\n",
    "arr"
   ]
  },
  {
   "cell_type": "markdown",
   "metadata": {},
   "source": [
    "# Question14: How to find common values between two arrays?"
   ]
  },
  {
   "cell_type": "code",
   "execution_count": 18,
   "metadata": {},
   "outputs": [
    {
     "name": "stdout",
     "output_type": "stream",
     "text": [
      "[3 4 8 9]\n"
     ]
    }
   ],
   "source": [
    "arr1 = np.array([3, 7, 2, 8, 4, 2, 5, 9, 7, 4])\n",
    "arr2 = np.array([9, 4, 3, 8, 4])\n",
    "intersected_values=np.intersect1d(arr1,arr2)\n",
    "print(intersected_values)"
   ]
  },
  {
   "cell_type": "markdown",
   "metadata": {},
   "source": [
    "## Question15: Write a NumPy program to test whether each element of a 1-D array is also present in a second array.\n",
    "\n",
    "\n",
    "Array1: [0 10 20 40 60]   \n",
    "Array2: [0, 40]\n"
   ]
  },
  {
   "cell_type": "code",
   "execution_count": 19,
   "metadata": {},
   "outputs": [
    {
     "name": "stdout",
     "output_type": "stream",
     "text": [
      "[ True False False  True False]\n"
     ]
    }
   ],
   "source": [
    "array1 = np.array([0, 10, 20, 40, 60])\n",
    "array2 = np.array([0, 40])\n",
    "res=np.isin(array1,array2)\n",
    "print(res)"
   ]
  },
  {
   "cell_type": "markdown",
   "metadata": {},
   "source": [
    "## Question16: How to get all the dates corresponding to the month of July 2016?"
   ]
  },
  {
   "cell_type": "code",
   "execution_count": 21,
   "metadata": {},
   "outputs": [
    {
     "name": "stdout",
     "output_type": "stream",
     "text": [
      "['2016-07-01' '2016-07-02' '2016-07-03' '2016-07-04' '2016-07-05'\n",
      " '2016-07-06' '2016-07-07' '2016-07-08' '2016-07-09' '2016-07-10'\n",
      " '2016-07-11' '2016-07-12' '2016-07-13' '2016-07-14' '2016-07-15'\n",
      " '2016-07-16' '2016-07-17' '2016-07-18' '2016-07-19' '2016-07-20'\n",
      " '2016-07-21' '2016-07-22' '2016-07-23' '2016-07-24' '2016-07-25'\n",
      " '2016-07-26' '2016-07-27' '2016-07-28' '2016-07-29' '2016-07-30'\n",
      " '2016-07-31']\n"
     ]
    }
   ],
   "source": [
    "july_2016 = np.arange('2016-07','2016-08',dtype='datetime64[D]')\n",
    "print(july_2016)"
   ]
  },
  {
   "cell_type": "markdown",
   "metadata": {},
   "source": [
    "## Question17: Extract the integer part of a random array using 5 different methods"
   ]
  },
  {
   "cell_type": "code",
   "execution_count": 23,
   "metadata": {},
   "outputs": [
    {
     "name": "stdout",
     "output_type": "stream",
     "text": [
      "[-8.  3. -2. -5. -5.] [-9.  3. -3. -6. -6.] [-8.  4. -2. -5. -5.] [-8  3 -2 -5 -5] [-9.  3. -2. -6. -6.]\n"
     ]
    }
   ],
   "source": [
    "arr = np.random.uniform(-10, 10, 5)  \n",
    "method1 = np.trunc(arr)\n",
    "method2 = np.floor(arr)\n",
    "method3=np.ceil(arr)\n",
    "method4=arr.astype(int)\n",
    "method5=np.round(arr)\n",
    "print(method1,method2,method3,method4,method5)"
   ]
  },
  {
   "cell_type": "markdown",
   "metadata": {},
   "source": [
    "## Question18: Consider two random array A and B, check if they are equal  "
   ]
  },
  {
   "cell_type": "code",
   "execution_count": 25,
   "metadata": {},
   "outputs": [
    {
     "name": "stdout",
     "output_type": "stream",
     "text": [
      "[6 8 3 4 4]\n",
      "[7 5 4 8 5]\n",
      "False\n",
      "False\n"
     ]
    }
   ],
   "source": [
    "A = np.random.randint(0, 10, 5)  \n",
    "B = np.random.randint(0, 10, 5)  \n",
    "equal_exact = np.array_equal(A, B)\n",
    "equal_close=np.allclose(A,B)\n",
    "print(A)\n",
    "print(B)\n",
    "print(equal_exact)\n",
    "print(equal_close)"
   ]
  },
  {
   "cell_type": "markdown",
   "metadata": {},
   "source": [
    "## Question19: How to find the closest value (to a given scalar) in a vector?"
   ]
  },
  {
   "cell_type": "code",
   "execution_count": 26,
   "metadata": {},
   "outputs": [
    {
     "name": "stdout",
     "output_type": "stream",
     "text": [
      "[ 0  1  2  3  4  5  6  7  8  9 10 11 12 13 14 15 16 17 18 19 20 21 22 23\n",
      " 24 25 26 27 28 29 30 31 32 33 34 35 36 37 38 39 40 41 42 43 44 45 46 47\n",
      " 48 49 50 51 52 53 54 55 56 57 58 59 60 61 62 63 64 65 66 67 68 69 70 71\n",
      " 72 73 74 75 76 77 78 79 80 81 82 83 84 85 86 87 88 89 90 91 92 93 94 95\n",
      " 96 97 98 99]\n",
      "27.857846646995053\n",
      "28\n"
     ]
    }
   ],
   "source": [
    "vector = np.arange(100)\n",
    "scalar = np.random.uniform(0, 100)\n",
    "closest_value = vector[np.abs(vector - scalar).argmin()]\n",
    "print(vector)\n",
    "print(scalar)\n",
    "print(closest_value)"
   ]
  },
  {
   "cell_type": "markdown",
   "metadata": {},
   "source": [
    "## Question20: Find the nearest value from a given value in an array"
   ]
  },
  {
   "cell_type": "code",
   "execution_count": 27,
   "metadata": {},
   "outputs": [
    {
     "name": "stdout",
     "output_type": "stream",
     "text": [
      "[[7.94832811e-01 1.06372951e-01 7.57402596e-01 2.75701170e-01\n",
      "  2.63885979e-01 4.96528058e-01 9.92899219e-01 9.42210428e-01\n",
      "  9.34018503e-01 3.16103789e-01]\n",
      " [4.99125755e-02 6.35205118e-01 9.17755494e-01 8.40949150e-01\n",
      "  8.10184307e-01 9.05352073e-01 7.38282229e-01 8.10558127e-01\n",
      "  5.75870180e-01 1.82928957e-01]\n",
      " [3.20683542e-01 8.54503842e-01 5.54444293e-01 2.28115436e-02\n",
      "  8.83464101e-01 5.06673598e-01 2.43107797e-01 1.19664881e-01\n",
      "  1.12448618e-01 8.19297011e-02]\n",
      " [3.55495194e-01 4.70952558e-01 3.28351222e-01 5.51050756e-01\n",
      "  4.51152119e-02 5.11285659e-01 5.30877313e-01 7.74879591e-01\n",
      "  1.84029658e-01 7.69293492e-01]\n",
      " [4.02198294e-01 2.86188114e-01 7.77528655e-01 5.11611999e-01\n",
      "  1.86951923e-02 9.11287597e-02 5.75030321e-01 4.67359526e-01\n",
      "  3.94548734e-01 6.57914251e-01]\n",
      " [4.15168759e-01 7.16188526e-01 7.10282736e-01 8.53201875e-01\n",
      "  6.62106830e-01 4.61706192e-01 6.07381741e-01 4.72620526e-01\n",
      "  2.23411414e-01 4.48625807e-01]\n",
      " [6.79296025e-01 2.78277258e-01 2.85999212e-01 8.48828389e-01\n",
      "  4.74301176e-01 9.95535699e-01 1.07575166e-01 7.37876891e-01\n",
      "  3.19300052e-01 4.61386906e-01]\n",
      " [1.13347951e-01 4.02663830e-01 8.34175749e-01 6.20200463e-01\n",
      "  7.38517721e-01 1.82062862e-01 7.67192406e-04 6.35849294e-01\n",
      "  7.23450471e-01 7.28959903e-01]\n",
      " [6.81461941e-01 1.54357824e-01 8.85907741e-01 3.38223612e-01\n",
      "  8.62379573e-01 2.88715756e-01 5.82641075e-01 9.92168528e-01\n",
      "  9.68826667e-01 6.16506211e-01]\n",
      " [3.26831846e-01 8.51706798e-01 5.26241159e-01 4.57984473e-01\n",
      "  5.96604699e-01 8.41817781e-02 7.85213469e-01 1.60909238e-01\n",
      "  6.02535356e-01 2.29988802e-01]]\n",
      "0.49652805834611513\n"
     ]
    }
   ],
   "source": [
    "array = np.random.rand(10,10)\n",
    "target_value = 0.5\n",
    "nearest_value = array.flat[np.abs(array - target_value).argmin()]\n",
    "print(array)\n",
    "print(nearest_value)"
   ]
  }
 ],
 "metadata": {
  "kernelspec": {
   "display_name": "Python 3",
   "language": "python",
   "name": "python3"
  },
  "language_info": {
   "codemirror_mode": {
    "name": "ipython",
    "version": 3
   },
   "file_extension": ".py",
   "mimetype": "text/x-python",
   "name": "python",
   "nbconvert_exporter": "python",
   "pygments_lexer": "ipython3",
   "version": "3.10.6"
  }
 },
 "nbformat": 4,
 "nbformat_minor": 2
}
